{
 "cells": [
  {
   "cell_type": "markdown",
   "metadata": {},
   "source": [
    "### Terminal\n",
    "统计学习(statistical learning)\n",
    "\n",
    "监督学习(supervised learning),输入都有label\n",
    "\n",
    "半监督学习(semi-supervised learning)\n",
    "\n",
    "统计学习三要素:模型，策略，算法 , $F=\\{P|P_{\\theta}=f(Y|X),\\theta \\in R^n\\}$\n",
    "\n",
    "参数空间(parameter space)\n",
    "\n",
    "假设空间(hypothesis space),包含所有可能的条件概率分布或决策函数\n",
    "\n",
    "每个具体的输入是实例(insrance),由特征向量(feature vextor)表示，特征空间(feature space)\n",
    "\n",
    "训练数据(training data),测试数据(test data)\n",
    "\n",
    "经验风险(empirical risk), 过拟合(overfitting)\n",
    "\n",
    "结构风险(structural risk),正则化项(regularizer)\n",
    "\n",
    "准确率(accuracy),误差率(error rate)\n",
    "\n",
    "泛化能力(generalization ability)\n",
    "\n",
    "精确率(precision),召回率(recall),FP,将负类预测为正类$$P=\\frac{TP}{TP+FP}$$ \n",
    "\n",
    "$$R=\\frac{TP}{TP+FN}$$"
   ]
  },
  {
   "cell_type": "markdown",
   "metadata": {},
   "source": [
    "### 损失函数(loss function)\n",
    "+ 0-1 loss function \n",
    "\n",
    "$$L(Y,f(x))=\\begin{cases}1,&Y \\neq f(X)\\\\0,&Y=f(X)\\end{cases}$$\n",
    "\n",
    "+ quadratic loss function\n",
    "\n",
    "$$L(Y,f(X))=(Y-f(X))^2$$\n",
    "\n",
    "+ absolute loss function\n",
    "\n",
    "$$L(Y,f(X))=|(Y-f(X))|$$\n",
    "\n",
    "+ logarithmic loss function\n",
    "\n",
    "$$L(Y,P(Y|X))=-logP(Y|X)$$\n",
    "\n",
    "+ cross entropy\n",
    "\n",
    "$$H(p,q)=-\\displaystyle \\sum^{N}_{i=1}p(x_{i}) log q(x_{i})$$\n",
    "\n",
    "熵(entropy) $$H(x)=-\\displaystyle \\sum_{i}P(x_{i}) log_{b} P(x_{i})$$\n",
    "\n",
    "KL散度(Kullback-Leibler_divergence),用来比较两个分布之间的契合程度,假设p(x)为真实分布，q(x)为模型,概率大的区域匹配程度的重要性比较大，$D_{KL}$越小，匹配程度越高\n",
    "\n",
    "$$\\begin{align}\n",
    "D_{KL}(p||q)\n",
    "&=\\displaystyle \\sum_{i}P(x_{i}) log\\frac{p(x_{i})}{q(x_{i})}\\geq 0 \\\\\n",
    "&=-H(p(x))-\\displaystyle \\sum_{i}P(x_{i}) logq(x_{i})\n",
    "\\end{align}$$\n",
    "\n"
   ]
  },
  {
   "cell_type": "markdown",
   "metadata": {},
   "source": [
    "### Regularization \n",
    "\n",
    "L2范数（L^2-Norm）: $$L(w)=\\frac{1}{N}\\displaystyle \\sum^{N}_{i=1}(f(x_{i};w)-y_{i})^2+\\frac{\\lambda}{2}||w||^2$$\n",
    "\n",
    "L1范数：$$L(w)=\\frac{1}{N}\\displaystyle \\sum^{N}_{i=1}(f(x_{i};w)-y_{i})^2+\\lambda||w||$$\n",
    "\n",
    "### cross validation\n",
    "\n",
    "验证集(validation set)\n",
    "\n",
    "+ 简单交叉验证 分训练集，测试集，\n",
    "\n",
    "+ S折交叉验证（S-fold cross validation），将数据奉承S个大小相同的子集，用S-1个子集训练，剩下的验证，S次测评中选择测试误差最小的\n",
    "\n",
    "+ 留一交叉验证(leave-one-out cross validation) ,S=N"
   ]
  }
 ],
 "metadata": {
  "kernelspec": {
   "display_name": "Python 3",
   "language": "python",
   "name": "python3"
  },
  "language_info": {
   "codemirror_mode": {
    "name": "ipython",
    "version": 3
   },
   "file_extension": ".py",
   "mimetype": "text/x-python",
   "name": "python",
   "nbconvert_exporter": "python",
   "pygments_lexer": "ipython3",
   "version": "3.6.7"
  }
 },
 "nbformat": 4,
 "nbformat_minor": 2
}
